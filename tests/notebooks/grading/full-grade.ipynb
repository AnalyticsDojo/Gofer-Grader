{
 "cells": [
  {
   "cell_type": "code",
   "execution_count": 1,
   "metadata": {},
   "outputs": [],
   "source": [
    "# This notebook passes all tests"
   ]
  },
  {
   "cell_type": "code",
   "execution_count": 2,
   "metadata": {},
   "outputs": [],
   "source": [
    "defined_variable = 100"
   ]
  },
  {
   "cell_type": "code",
   "execution_count": 3,
   "metadata": {},
   "outputs": [
    {
     "data": {
      "text/html": [
       "\n",
       "    \n",
       "    \n",
       "        <p>All 1 tests passed! Full grade.</p>\n",
       "    \n",
       "    "
      ],
      "text/plain": [
       "<gradememaybe.ok.OKTestsResult at 0x10fcbf470>"
      ]
     },
     "execution_count": 3,
     "metadata": {},
     "output_type": "execute_result"
    }
   ],
   "source": [
    "from gradememaybe.ok import check\n",
    "check('tests/q_1.py')"
   ]
  },
  {
   "cell_type": "code",
   "execution_count": 4,
   "metadata": {},
   "outputs": [
    {
     "data": {
      "text/html": [
       "\n",
       "    \n",
       "    \n",
       "        <p>All 1 tests passed! Full grade.</p>\n",
       "    \n",
       "    "
      ],
      "text/plain": [
       "<gradememaybe.ok.OKTestsResult at 0x10ff69cf8>"
      ]
     },
     "execution_count": 4,
     "metadata": {},
     "output_type": "execute_result"
    }
   ],
   "source": [
    "another_defined_variable = 200\n",
    "check('tests/q_2.py')"
   ]
  },
  {
   "cell_type": "code",
   "execution_count": 5,
   "metadata": {},
   "outputs": [
    {
     "name": "stdout",
     "output_type": "stream",
     "text": [
      "[<gradememaybe.ok.OKTestsResult object at 0x10ff92320>, <gradememaybe.ok.OKTestsResult object at 0x10ff92da0>]\n",
      "{('tests/q_2.py',), ('tests/q_1.py',)}\n",
      "Question 1:\n"
     ]
    },
    {
     "data": {
      "text/html": [
       "\n",
       "    \n",
       "    \n",
       "        <p>All 1 tests passed! Full grade.</p>\n",
       "    \n",
       "    "
      ],
      "text/plain": [
       "<gradememaybe.ok.OKTestsResult at 0x10ff95cf8>"
      ]
     },
     "metadata": {},
     "output_type": "display_data"
    },
    {
     "name": "stdout",
     "output_type": "stream",
     "text": [
      "Question 2:\n"
     ]
    },
    {
     "data": {
      "text/html": [
       "\n",
       "    \n",
       "    \n",
       "        <p>All 1 tests passed! Full grade.</p>\n",
       "    \n",
       "    "
      ],
      "text/plain": [
       "<gradememaybe.ok.OKTestsResult at 0x10ff95dd8>"
      ]
     },
     "metadata": {},
     "output_type": "display_data"
    },
    {
     "data": {
      "text/plain": [
       "1.0"
      ]
     },
     "execution_count": 5,
     "metadata": {},
     "output_type": "execute_result"
    }
   ],
   "source": [
    "from gradememaybe.ok import grade_notebook\n",
    "from glob import glob\n",
    "grade_notebook('full-grade.ipynb', glob('tests/q*.py'))"
   ]
  },
  {
   "cell_type": "code",
   "execution_count": null,
   "metadata": {},
   "outputs": [],
   "source": []
  }
 ],
 "metadata": {
  "kernelspec": {
   "display_name": "Python 3",
   "language": "python",
   "name": "python3"
  },
  "language_info": {
   "codemirror_mode": {
    "name": "ipython",
    "version": 3
   },
   "file_extension": ".py",
   "mimetype": "text/x-python",
   "name": "python",
   "nbconvert_exporter": "python",
   "pygments_lexer": "ipython3",
   "version": "3.6.3"
  }
 },
 "nbformat": 4,
 "nbformat_minor": 2
}
