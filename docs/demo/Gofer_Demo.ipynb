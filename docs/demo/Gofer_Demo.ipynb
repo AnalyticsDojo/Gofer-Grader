{
 "cells": [
  {
   "cell_type": "code",
   "execution_count": null,
   "metadata": {},
   "outputs": [],
   "source": [
    "from gofer.ok import check"
   ]
  },
  {
   "cell_type": "markdown",
   "metadata": {},
   "source": [
    "# Gofer Grader Demo\n",
    "  \n",
    "Gofer uses the ok test format to autograde notebook solutions. Below is the test file for this notebook, located in `tests/demo.ok`. In short, the test file contains python code to test the value of certain variables.  More details are in the documentation, in `ok-test-format.ok`."
   ]
  },
  {
   "cell_type": "markdown",
   "metadata": {},
   "source": [
    "```\n",
    "test = {\n",
    "    'name': 'Gofer Grader Demo',\n",
    "    'suites': [\n",
    "        {\n",
    "            'cases': [\n",
    "                    {\n",
    "                      'code': r\"\"\"\n",
    "                      >>> # It looks like you didn't give anything the name\n",
    "                      >>> # seconds_in_a_decade.  Maybe there's a typo?\n",
    "                      >>> 'seconds_in_a_decade' in vars()\n",
    "                      True\n",
    "                      \"\"\"\n",
    "                    },\n",
    "                    {\n",
    "                      'code': r\"\"\"\n",
    "                      >>> # The number of seconds you computed is too low by at least\n",
    "                      >>> # a factor of 5.\n",
    "                      >>> # There are 10 years, some number of days in a year, some\n",
    "                      >>> # number of hours per day, minutes per hour, and seconds\n",
    "                      >>> # per minute. For example, this is almost right:\n",
    "                      >>> #   seconds_in_a_decade = 10*365*24*60*60\n",
    "                      >>> seconds_in_a_decade > 60000000\n",
    "                      True\n",
    "                      \"\"\"\n",
    "                    },\n",
    "                    {\n",
    "                      'code': r\"\"\"\n",
    "                      >>> # You're close! Perhaps you didn't account for leap years correctly.\n",
    "                      >>> # There were 2 leap years and 8 non-leap years in this period.\n",
    "                      >>> # Leap years have 366 days instead of 365.\n",
    "                      >>> 315360000 < seconds_in_a_decade < 331344000\n",
    "                      True\n",
    "                      \"\"\"\n",
    "                    },\n",
    "                    {\n",
    "                      'code': r\"\"\"\n",
    "                      >>> seconds_in_a_decade == 315532800\n",
    "                      True\n",
    "                      \"\"\"\n",
    "                    }\n",
    "              ]\n",
    "        }\n",
    "    ]\n",
    "}\n",
    "```"
   ]
  },
  {
   "cell_type": "markdown",
   "metadata": {},
   "source": [
    "Here's a sample question, with a corresponding check.\n",
    "  \n",
    "Compute the number of seconds in a decade."
   ]
  },
  {
   "cell_type": "code",
   "execution_count": null,
   "metadata": {},
   "outputs": [],
   "source": [
    "seconds_in_a_decade = 1"
   ]
  },
  {
   "cell_type": "markdown",
   "metadata": {},
   "source": [
    "Below is an example of what happens when tests fail. Observe that the comments are printed as well, to give the students feedback on their error."
   ]
  },
  {
   "cell_type": "code",
   "execution_count": null,
   "metadata": {
    "scrolled": true
   },
   "outputs": [],
   "source": [
    "check('tests/demo.ok')"
   ]
  },
  {
   "cell_type": "markdown",
   "metadata": {},
   "source": [
    "Now let's set the correct answer."
   ]
  },
  {
   "cell_type": "code",
   "execution_count": null,
   "metadata": {},
   "outputs": [],
   "source": [
    "seconds_in_a_decade = (365*8 + 366*2) * 24 * 60 * 60"
   ]
  },
  {
   "cell_type": "markdown",
   "metadata": {},
   "source": [
    "Here is an example of a successful test."
   ]
  },
  {
   "cell_type": "code",
   "execution_count": null,
   "metadata": {},
   "outputs": [],
   "source": [
    "check('tests/demo.ok')"
   ]
  },
  {
   "cell_type": "markdown",
   "metadata": {},
   "source": [
    "Feel free to edit `demo.ok` file and add more tests. You can find it in the `tests/` folder in the Jupyter directory. "
   ]
  }
 ],
 "metadata": {
  "kernelspec": {
   "display_name": "Python 3",
   "language": "python",
   "name": "python3"
  },
  "language_info": {
   "codemirror_mode": {
    "name": "ipython",
    "version": 3
   },
   "file_extension": ".py",
   "mimetype": "text/x-python",
   "name": "python",
   "nbconvert_exporter": "python",
   "pygments_lexer": "ipython3",
   "version": "3.7.1"
  }
 },
 "nbformat": 4,
 "nbformat_minor": 2
}
